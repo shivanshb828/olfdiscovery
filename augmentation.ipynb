{
 "cells": [
  {
   "cell_type": "code",
   "execution_count": 1,
   "metadata": {},
   "outputs": [],
   "source": [
    "from rdkit import Chem\n",
    "from rdkit.Chem import MolToSmiles\n",
    "import pandas as pd\n",
    "\n",
    "def enumerate_smiles(smiles, n_variants=10):\n",
    "    mol = Chem.MolFromSmiles(smiles)\n",
    "    if mol is None:\n",
    "        return []\n",
    "    smiles_set = set()\n",
    "    for _ in range(n_variants):\n",
    "        # doRandom=True randomizes the atom traversal\n",
    "        variant = MolToSmiles(mol, doRandom=True)\n",
    "        smiles_set.add(variant)\n",
    "    return list(smiles_set)"
   ]
  },
  {
   "cell_type": "code",
   "execution_count": 4,
   "metadata": {},
   "outputs": [
    {
     "name": "stdout",
     "output_type": "stream",
     "text": [
      "Augmented SMILES have been added to pos_train.csv\n",
      "Augmented SMILES have been added to neg_train.csv\n",
      "Augmented SMILES have been added to pos_test.csv\n",
      "Augmented SMILES have been added to neg_test.csv\n"
     ]
    }
   ],
   "source": [
    "# Load the CSV file\n",
    "\n",
    "paths = ['pos_train.csv', 'neg_train.csv', 'pos_test.csv', 'neg_test.csv']\n",
    "for file_path in paths:\n",
    "    df = pd.read_csv(\"model_data/\" + file_path, header=None)\n",
    "\n",
    "    # Convert the DataFrame column to a list\n",
    "    original_smiles = df[0].tolist()\n",
    "\n",
    "    # Create a list to store the augmented data\n",
    "    augmented_data = []\n",
    "\n",
    "    # Apply the enumerate_smiles function to each SMILES in the list\n",
    "    for smiles in original_smiles:\n",
    "        variants = enumerate_smiles(smiles, n_variants=3)  # Generate 5 variants for each SMILES\n",
    "        for variant in variants:\n",
    "            augmented_data.append({'smiles': variant})\n",
    "\n",
    "    # Convert the augmented data to a DataFrame\n",
    "    augmented_df = pd.DataFrame(augmented_data)\n",
    "\n",
    "    # Append the augmented SMILES to the original DataFrame\n",
    "    updated_df = pd.concat([df, augmented_df], ignore_index=True)\n",
    "\n",
    "    # Save the updated DataFrame back to the CSV file\n",
    "    updated_df.to_csv(\"model_data/\" + file_path, index=False)\n",
    "\n",
    "    print(f\"Augmented SMILES have been added to {file_path}\")"
   ]
  }
 ],
 "metadata": {
  "kernelspec": {
   "display_name": "myenv",
   "language": "python",
   "name": "python3"
  },
  "language_info": {
   "codemirror_mode": {
    "name": "ipython",
    "version": 3
   },
   "file_extension": ".py",
   "mimetype": "text/x-python",
   "name": "python",
   "nbconvert_exporter": "python",
   "pygments_lexer": "ipython3",
   "version": "3.10.14"
  }
 },
 "nbformat": 4,
 "nbformat_minor": 2
}
