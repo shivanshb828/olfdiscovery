{
 "cells": [
  {
   "cell_type": "code",
   "execution_count": 12,
   "metadata": {},
   "outputs": [],
   "source": [
    "import os\n",
    "import pandas as pd\n",
    "import random\n",
    "\n",
    "# Define the directory containing your .picked files\n",
    "directory = 'dude-decoys/decoys'\n",
    "\n",
    "# Create a list to store the data\n",
    "decoy_list = []\n",
    "\n",
    "# Loop through each file in the directory\n",
    "for filename in os.listdir(directory):\n",
    "    if filename.endswith('.picked'):\n",
    "        # Construct the full file path\n",
    "        file_path = os.path.join(directory, filename)\n",
    "        \n",
    "        # Temporary list to store data from the current file\n",
    "        temp_list = []\n",
    "        \n",
    "        # Open and read the file\n",
    "        with open(file_path, 'r') as file:\n",
    "            for line in file:\n",
    "                # Assuming each line in the file is a SMILES string followed by other properties\n",
    "                parts = line.strip().split('\\t')  # Adjust the delimiter to match your file's format\n",
    "                if len(parts) > 1:  # Make sure there's at least one SMILES and another data field\n",
    "                    temp_list.append(parts)\n",
    "        \n",
    "        # Randomly select up to 5 entries from the list\n",
    "        random_sample = random.sample(temp_list, min(5, len(temp_list)))\n",
    "        decoy_list.extend(random_sample)\n",
    "\n",
    "# Create a DataFrame from the list\n",
    "decoys_df = pd.DataFrame(decoy_list, columns=['SMILES', 'zincID', 'zincprotonationID'])  # Rename columns as necessary\n",
    "\n",
    "# Save the DataFrame to a CSV file\n",
    "decoys_df.to_csv('decoys.csv', index=False)\n"
   ]
  }
 ],
 "metadata": {
  "kernelspec": {
   "display_name": "myenv",
   "language": "python",
   "name": "python3"
  },
  "language_info": {
   "codemirror_mode": {
    "name": "ipython",
    "version": 3
   },
   "file_extension": ".py",
   "mimetype": "text/x-python",
   "name": "python",
   "nbconvert_exporter": "python",
   "pygments_lexer": "ipython3",
   "version": "3.10.14"
  }
 },
 "nbformat": 4,
 "nbformat_minor": 2
}
